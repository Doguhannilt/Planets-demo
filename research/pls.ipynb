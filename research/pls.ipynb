{
 "cells": [
  {
   "cell_type": "code",
   "execution_count": 76,
   "metadata": {},
   "outputs": [],
   "source": [
    "import pandas as pd"
   ]
  },
  {
   "cell_type": "code",
   "execution_count": 77,
   "metadata": {},
   "outputs": [],
   "source": [
    "veri = pd.read_csv(\"C:/Users/doguy/Desktop/Planets/artifacts/PSCompPars_2023.10.03_19.49.43.csv\")\n",
    "additional = pd.read_csv(\"C:/Users/doguy/Desktop/Planets/artifacts/additional.csv\")\n",
    "veri = pd.concat([veri, additional], axis=1)\n"
   ]
  },
  {
   "cell_type": "code",
   "execution_count": 78,
   "metadata": {},
   "outputs": [
    {
     "data": {
      "text/plain": [
       "Index(['pl_name', 'hostname', 'pl_letter', 'sy_snum', 'sy_pnum', 'sy_mnum',\n",
       "       'discoverymethod', 'disc_locale', 'disc_facility', 'disc_telescope',\n",
       "       'disc_instrument', 'pl_orbper', 'pl_orbpererr1', 'pl_orbpererr2',\n",
       "       'pl_orbperlim', 'pl_orbeccen', 'pl_orbeccenerr1', 'pl_orbeccenerr2',\n",
       "       'pl_orbeccenlim', 'st_spectype', 'sy_dist', 'sy_disterr1',\n",
       "       'sy_disterr2', 'sy_plx', 'sy_plxerr1', 'sy_plxerr2', 'sy_kepmag',\n",
       "       'sy_kepmagerr1', 'sy_kepmagerr2', 'pl_orbper', 'pl_orbpererr1',\n",
       "       'pl_orbpererr2', 'pl_orbperlim', 'sy_dist', 'sy_disterr1',\n",
       "       'sy_disterr2', 'pl_nnotes'],\n",
       "      dtype='object')"
      ]
     },
     "execution_count": 78,
     "metadata": {},
     "output_type": "execute_result"
    }
   ],
   "source": [
    "veri.columns"
   ]
  },
  {
   "cell_type": "code",
   "execution_count": 79,
   "metadata": {},
   "outputs": [
    {
     "data": {
      "text/plain": [
       "pl_name               0\n",
       "hostname              0\n",
       "pl_letter             0\n",
       "sy_snum               0\n",
       "sy_pnum               0\n",
       "sy_mnum               0\n",
       "discoverymethod       0\n",
       "disc_locale           0\n",
       "disc_facility         0\n",
       "disc_telescope        0\n",
       "disc_instrument       0\n",
       "pl_orbper           243\n",
       "pl_orbpererr1       722\n",
       "pl_orbpererr2       722\n",
       "pl_orbperlim        243\n",
       "pl_orbeccen         766\n",
       "pl_orbeccenerr1    3956\n",
       "pl_orbeccenerr2    3956\n",
       "pl_orbeccenlim      766\n",
       "st_spectype        3547\n",
       "sy_dist              21\n",
       "sy_disterr1         127\n",
       "sy_disterr2         127\n",
       "sy_plx              308\n",
       "sy_plxerr1          308\n",
       "sy_plxerr2          308\n",
       "sy_kepmag          2082\n",
       "sy_kepmagerr1      5523\n",
       "sy_kepmagerr2      5523\n",
       "pl_orbper           243\n",
       "pl_orbpererr1       722\n",
       "pl_orbpererr2       722\n",
       "pl_orbperlim        243\n",
       "sy_dist              21\n",
       "sy_disterr1         127\n",
       "sy_disterr2         127\n",
       "pl_nnotes           149\n",
       "dtype: int64"
      ]
     },
     "execution_count": 79,
     "metadata": {},
     "output_type": "execute_result"
    }
   ],
   "source": [
    "veri.isnull().sum()"
   ]
  },
  {
   "cell_type": "code",
   "execution_count": 80,
   "metadata": {},
   "outputs": [],
   "source": [
    "liste = [\"pl_orbper\",   \n",
    "\"pl_orbpererr1\",    \n",
    "\"pl_orbpererr2\",       \n",
    "\"pl_orbperlim\",        \n",
    "\"pl_orbeccen\",         \n",
    "\"pl_orbeccenerr1\",  \n",
    "\"pl_orbeccenerr2\",    \n",
    "\"pl_orbeccenlim\",      \n",
    "\"st_spectype\",        \n",
    "\"sy_plx\",              \n",
    "\"sy_plxerr1\",          \n",
    "\"sy_plxerr2\",          \n",
    "\"sy_kepmag\",          \n",
    "\"sy_kepmagerr1\",      \n",
    "\"sy_kepmagerr2\"] "
   ]
  },
  {
   "cell_type": "code",
   "execution_count": 81,
   "metadata": {},
   "outputs": [],
   "source": [
    "veri = veri.drop(columns=liste,axis=1)"
   ]
  },
  {
   "cell_type": "code",
   "execution_count": 82,
   "metadata": {},
   "outputs": [
    {
     "name": "stderr",
     "output_type": "stream",
     "text": [
      "C:\\Users\\doguy\\AppData\\Local\\Temp\\ipykernel_8980\\1973196057.py:1: FutureWarning: The default value of numeric_only in DataFrame.median is deprecated. In a future version, it will default to False. In addition, specifying 'numeric_only=None' is deprecated. Select only valid columns or specify the value of numeric_only to silence this warning.\n",
      "  veri =veri.fillna(veri.median())\n"
     ]
    }
   ],
   "source": [
    "veri =veri.fillna(veri.median())"
   ]
  },
  {
   "cell_type": "code",
   "execution_count": 83,
   "metadata": {},
   "outputs": [
    {
     "data": {
      "text/plain": [
       "pl_name            0\n",
       "hostname           0\n",
       "pl_letter          0\n",
       "sy_snum            0\n",
       "sy_pnum            0\n",
       "sy_mnum            0\n",
       "discoverymethod    0\n",
       "disc_locale        0\n",
       "disc_facility      0\n",
       "disc_telescope     0\n",
       "disc_instrument    0\n",
       "sy_dist            0\n",
       "sy_disterr1        0\n",
       "sy_disterr2        0\n",
       "sy_dist            0\n",
       "sy_disterr1        0\n",
       "sy_disterr2        0\n",
       "pl_nnotes          0\n",
       "dtype: int64"
      ]
     },
     "execution_count": 83,
     "metadata": {},
     "output_type": "execute_result"
    }
   ],
   "source": [
    "veri.isnull().sum()"
   ]
  },
  {
   "cell_type": "code",
   "execution_count": 84,
   "metadata": {},
   "outputs": [
    {
     "data": {
      "text/plain": [
       "Index(['pl_name', 'hostname', 'pl_letter', 'sy_snum', 'sy_pnum', 'sy_mnum',\n",
       "       'discoverymethod', 'disc_locale', 'disc_facility', 'disc_telescope',\n",
       "       'disc_instrument', 'sy_dist', 'sy_disterr1', 'sy_disterr2', 'sy_dist',\n",
       "       'sy_disterr1', 'sy_disterr2', 'pl_nnotes'],\n",
       "      dtype='object')"
      ]
     },
     "execution_count": 84,
     "metadata": {},
     "output_type": "execute_result"
    }
   ],
   "source": [
    "veri.columns"
   ]
  },
  {
   "cell_type": "code",
   "execution_count": 85,
   "metadata": {},
   "outputs": [
    {
     "data": {
      "text/html": [
       "<div>\n",
       "<style scoped>\n",
       "    .dataframe tbody tr th:only-of-type {\n",
       "        vertical-align: middle;\n",
       "    }\n",
       "\n",
       "    .dataframe tbody tr th {\n",
       "        vertical-align: top;\n",
       "    }\n",
       "\n",
       "    .dataframe thead th {\n",
       "        text-align: right;\n",
       "    }\n",
       "</style>\n",
       "<table border=\"1\" class=\"dataframe\">\n",
       "  <thead>\n",
       "    <tr style=\"text-align: right;\">\n",
       "      <th></th>\n",
       "      <th>pl_name</th>\n",
       "      <th>hostname</th>\n",
       "      <th>pl_letter</th>\n",
       "      <th>sy_snum</th>\n",
       "      <th>sy_pnum</th>\n",
       "      <th>sy_mnum</th>\n",
       "      <th>discoverymethod</th>\n",
       "      <th>disc_locale</th>\n",
       "      <th>disc_facility</th>\n",
       "      <th>disc_telescope</th>\n",
       "      <th>disc_instrument</th>\n",
       "      <th>sy_dist</th>\n",
       "      <th>sy_disterr1</th>\n",
       "      <th>sy_disterr2</th>\n",
       "      <th>sy_dist</th>\n",
       "      <th>sy_disterr1</th>\n",
       "      <th>sy_disterr2</th>\n",
       "      <th>pl_nnotes</th>\n",
       "    </tr>\n",
       "  </thead>\n",
       "  <tbody>\n",
       "    <tr>\n",
       "      <th>0</th>\n",
       "      <td>11 Com b</td>\n",
       "      <td>11 Com</td>\n",
       "      <td>b</td>\n",
       "      <td>2</td>\n",
       "      <td>1</td>\n",
       "      <td>0</td>\n",
       "      <td>Radial Velocity</td>\n",
       "      <td>Ground</td>\n",
       "      <td>Xinglong Station</td>\n",
       "      <td>2.16 m Telescope</td>\n",
       "      <td>Coude Echelle Spectrograph</td>\n",
       "      <td>93.1846</td>\n",
       "      <td>1.9238</td>\n",
       "      <td>-1.9238</td>\n",
       "      <td>93.1846</td>\n",
       "      <td>1.9238</td>\n",
       "      <td>-1.9238</td>\n",
       "      <td>2.0</td>\n",
       "    </tr>\n",
       "    <tr>\n",
       "      <th>1</th>\n",
       "      <td>11 UMi b</td>\n",
       "      <td>11 UMi</td>\n",
       "      <td>b</td>\n",
       "      <td>1</td>\n",
       "      <td>1</td>\n",
       "      <td>0</td>\n",
       "      <td>Radial Velocity</td>\n",
       "      <td>Ground</td>\n",
       "      <td>Thueringer Landessternwarte Tautenburg</td>\n",
       "      <td>2.0 m Alfred Jensch Telescope</td>\n",
       "      <td>Coude Echelle Spectrograph</td>\n",
       "      <td>125.3210</td>\n",
       "      <td>1.9765</td>\n",
       "      <td>-1.9765</td>\n",
       "      <td>125.3210</td>\n",
       "      <td>1.9765</td>\n",
       "      <td>-1.9765</td>\n",
       "      <td>0.0</td>\n",
       "    </tr>\n",
       "    <tr>\n",
       "      <th>2</th>\n",
       "      <td>14 And b</td>\n",
       "      <td>14 And</td>\n",
       "      <td>b</td>\n",
       "      <td>1</td>\n",
       "      <td>1</td>\n",
       "      <td>0</td>\n",
       "      <td>Radial Velocity</td>\n",
       "      <td>Ground</td>\n",
       "      <td>Okayama Astrophysical Observatory</td>\n",
       "      <td>1.88 m Telescope</td>\n",
       "      <td>HIDES Echelle Spectrograph</td>\n",
       "      <td>75.4392</td>\n",
       "      <td>0.7140</td>\n",
       "      <td>-0.7140</td>\n",
       "      <td>75.4392</td>\n",
       "      <td>0.7140</td>\n",
       "      <td>-0.7140</td>\n",
       "      <td>0.0</td>\n",
       "    </tr>\n",
       "    <tr>\n",
       "      <th>3</th>\n",
       "      <td>14 Her b</td>\n",
       "      <td>14 Her</td>\n",
       "      <td>b</td>\n",
       "      <td>1</td>\n",
       "      <td>2</td>\n",
       "      <td>0</td>\n",
       "      <td>Radial Velocity</td>\n",
       "      <td>Ground</td>\n",
       "      <td>W. M. Keck Observatory</td>\n",
       "      <td>10 m Keck I Telescope</td>\n",
       "      <td>HIRES Spectrometer</td>\n",
       "      <td>17.9323</td>\n",
       "      <td>0.0073</td>\n",
       "      <td>-0.0073</td>\n",
       "      <td>17.9323</td>\n",
       "      <td>0.0073</td>\n",
       "      <td>-0.0073</td>\n",
       "      <td>0.0</td>\n",
       "    </tr>\n",
       "    <tr>\n",
       "      <th>4</th>\n",
       "      <td>16 Cyg B b</td>\n",
       "      <td>16 Cyg B</td>\n",
       "      <td>b</td>\n",
       "      <td>3</td>\n",
       "      <td>1</td>\n",
       "      <td>0</td>\n",
       "      <td>Radial Velocity</td>\n",
       "      <td>Ground</td>\n",
       "      <td>Multiple Observatories</td>\n",
       "      <td>Multiple Telescopes</td>\n",
       "      <td>Multiple Instruments</td>\n",
       "      <td>21.1397</td>\n",
       "      <td>0.0110</td>\n",
       "      <td>-0.0111</td>\n",
       "      <td>21.1397</td>\n",
       "      <td>0.0110</td>\n",
       "      <td>-0.0111</td>\n",
       "      <td>5.0</td>\n",
       "    </tr>\n",
       "  </tbody>\n",
       "</table>\n",
       "</div>"
      ],
      "text/plain": [
       "      pl_name  hostname pl_letter  sy_snum  sy_pnum  sy_mnum  discoverymethod  \\\n",
       "0    11 Com b    11 Com         b        2        1        0  Radial Velocity   \n",
       "1    11 UMi b    11 UMi         b        1        1        0  Radial Velocity   \n",
       "2    14 And b    14 And         b        1        1        0  Radial Velocity   \n",
       "3    14 Her b    14 Her         b        1        2        0  Radial Velocity   \n",
       "4  16 Cyg B b  16 Cyg B         b        3        1        0  Radial Velocity   \n",
       "\n",
       "  disc_locale                           disc_facility  \\\n",
       "0      Ground                        Xinglong Station   \n",
       "1      Ground  Thueringer Landessternwarte Tautenburg   \n",
       "2      Ground       Okayama Astrophysical Observatory   \n",
       "3      Ground                  W. M. Keck Observatory   \n",
       "4      Ground                  Multiple Observatories   \n",
       "\n",
       "                  disc_telescope             disc_instrument   sy_dist  \\\n",
       "0               2.16 m Telescope  Coude Echelle Spectrograph   93.1846   \n",
       "1  2.0 m Alfred Jensch Telescope  Coude Echelle Spectrograph  125.3210   \n",
       "2               1.88 m Telescope  HIDES Echelle Spectrograph   75.4392   \n",
       "3          10 m Keck I Telescope          HIRES Spectrometer   17.9323   \n",
       "4            Multiple Telescopes        Multiple Instruments   21.1397   \n",
       "\n",
       "   sy_disterr1  sy_disterr2   sy_dist  sy_disterr1  sy_disterr2  pl_nnotes  \n",
       "0       1.9238      -1.9238   93.1846       1.9238      -1.9238        2.0  \n",
       "1       1.9765      -1.9765  125.3210       1.9765      -1.9765        0.0  \n",
       "2       0.7140      -0.7140   75.4392       0.7140      -0.7140        0.0  \n",
       "3       0.0073      -0.0073   17.9323       0.0073      -0.0073        0.0  \n",
       "4       0.0110      -0.0111   21.1397       0.0110      -0.0111        5.0  "
      ]
     },
     "execution_count": 85,
     "metadata": {},
     "output_type": "execute_result"
    }
   ],
   "source": [
    "veri.head()"
   ]
  },
  {
   "cell_type": "code",
   "execution_count": 86,
   "metadata": {},
   "outputs": [],
   "source": [
    "veri.to_csv(\"C:/Users/doguy/Desktop/Planets/artifacts/data.csv\")"
   ]
  }
 ],
 "metadata": {
  "kernelspec": {
   "display_name": "base",
   "language": "python",
   "name": "python3"
  },
  "language_info": {
   "codemirror_mode": {
    "name": "ipython",
    "version": 3
   },
   "file_extension": ".py",
   "mimetype": "text/x-python",
   "name": "python",
   "nbconvert_exporter": "python",
   "pygments_lexer": "ipython3",
   "version": "3.11.3"
  },
  "orig_nbformat": 4
 },
 "nbformat": 4,
 "nbformat_minor": 2
}
