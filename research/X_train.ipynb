{
 "cells": [
  {
   "cell_type": "code",
   "execution_count": 4,
   "metadata": {},
   "outputs": [],
   "source": [
    "import pandas as pd\n",
    "X_train = pd.read_csv(\"C:/Users/doguy/Desktop/Planets/artifacts/X_train.csv\")"
   ]
  },
  {
   "cell_type": "code",
   "execution_count": 6,
   "metadata": {},
   "outputs": [],
   "source": [
    "import numpy as np\n",
    "\n",
    "# X_train ve X_test veri kümesinde negatif değerleri pozitife çevirme\n",
    "min_value = np.min(X_train[\"sy_disterr2\"])  # X_train'deki en küçük değeri hesapla\n",
    "\n",
    "# Negatif değerleri pozitife çevirme\n",
    "X_train[\"sy_disterr2\"] = X_train[\"sy_disterr2\"] - min_value\n"
   ]
  },
  {
   "cell_type": "code",
   "execution_count": 7,
   "metadata": {},
   "outputs": [
    {
     "data": {
      "text/html": [
       "<div>\n",
       "<style scoped>\n",
       "    .dataframe tbody tr th:only-of-type {\n",
       "        vertical-align: middle;\n",
       "    }\n",
       "\n",
       "    .dataframe tbody tr th {\n",
       "        vertical-align: top;\n",
       "    }\n",
       "\n",
       "    .dataframe thead th {\n",
       "        text-align: right;\n",
       "    }\n",
       "</style>\n",
       "<table border=\"1\" class=\"dataframe\">\n",
       "  <thead>\n",
       "    <tr style=\"text-align: right;\">\n",
       "      <th></th>\n",
       "      <th>Unnamed: 0</th>\n",
       "      <th>pl_letter</th>\n",
       "      <th>sy_snum</th>\n",
       "      <th>sy_pnum</th>\n",
       "      <th>discoverymethod</th>\n",
       "      <th>disc_locale</th>\n",
       "      <th>sy_dist</th>\n",
       "      <th>sy_disterr1</th>\n",
       "      <th>sy_disterr2</th>\n",
       "      <th>sy_dist.1</th>\n",
       "      <th>sy_disterr1.1</th>\n",
       "      <th>sy_disterr2.1</th>\n",
       "      <th>pl_nnotes</th>\n",
       "    </tr>\n",
       "  </thead>\n",
       "  <tbody>\n",
       "    <tr>\n",
       "      <th>0</th>\n",
       "      <td>1849</td>\n",
       "      <td>1</td>\n",
       "      <td>1</td>\n",
       "      <td>1</td>\n",
       "      <td>7</td>\n",
       "      <td>1</td>\n",
       "      <td>7020.0000</td>\n",
       "      <td>1030.0000</td>\n",
       "      <td>1690.0000</td>\n",
       "      <td>7020.0000</td>\n",
       "      <td>1030.0000</td>\n",
       "      <td>-1150.0000</td>\n",
       "      <td>2.0</td>\n",
       "    </tr>\n",
       "    <tr>\n",
       "      <th>1</th>\n",
       "      <td>2815</td>\n",
       "      <td>4</td>\n",
       "      <td>1</td>\n",
       "      <td>4</td>\n",
       "      <td>4</td>\n",
       "      <td>2</td>\n",
       "      <td>890.7580</td>\n",
       "      <td>13.6840</td>\n",
       "      <td>2826.7160</td>\n",
       "      <td>890.7580</td>\n",
       "      <td>13.6840</td>\n",
       "      <td>-13.2840</td>\n",
       "      <td>0.0</td>\n",
       "    </tr>\n",
       "    <tr>\n",
       "      <th>2</th>\n",
       "      <td>957</td>\n",
       "      <td>1</td>\n",
       "      <td>1</td>\n",
       "      <td>3</td>\n",
       "      <td>4</td>\n",
       "      <td>2</td>\n",
       "      <td>139.6110</td>\n",
       "      <td>0.4290</td>\n",
       "      <td>2839.5730</td>\n",
       "      <td>139.6110</td>\n",
       "      <td>0.4290</td>\n",
       "      <td>-0.4270</td>\n",
       "      <td>0.0</td>\n",
       "    </tr>\n",
       "    <tr>\n",
       "      <th>3</th>\n",
       "      <td>1295</td>\n",
       "      <td>1</td>\n",
       "      <td>1</td>\n",
       "      <td>1</td>\n",
       "      <td>2</td>\n",
       "      <td>2</td>\n",
       "      <td>18.1186</td>\n",
       "      <td>0.0201</td>\n",
       "      <td>2839.9799</td>\n",
       "      <td>18.1186</td>\n",
       "      <td>0.0201</td>\n",
       "      <td>-0.0201</td>\n",
       "      <td>1.0</td>\n",
       "    </tr>\n",
       "    <tr>\n",
       "      <th>4</th>\n",
       "      <td>4200</td>\n",
       "      <td>1</td>\n",
       "      <td>1</td>\n",
       "      <td>1</td>\n",
       "      <td>4</td>\n",
       "      <td>2</td>\n",
       "      <td>1355.2800</td>\n",
       "      <td>46.2800</td>\n",
       "      <td>2793.7200</td>\n",
       "      <td>1355.2800</td>\n",
       "      <td>46.2800</td>\n",
       "      <td>-46.2800</td>\n",
       "      <td>1.0</td>\n",
       "    </tr>\n",
       "    <tr>\n",
       "      <th>...</th>\n",
       "      <td>...</td>\n",
       "      <td>...</td>\n",
       "      <td>...</td>\n",
       "      <td>...</td>\n",
       "      <td>...</td>\n",
       "      <td>...</td>\n",
       "      <td>...</td>\n",
       "      <td>...</td>\n",
       "      <td>...</td>\n",
       "      <td>...</td>\n",
       "      <td>...</td>\n",
       "      <td>...</td>\n",
       "      <td>...</td>\n",
       "    </tr>\n",
       "    <tr>\n",
       "      <th>4413</th>\n",
       "      <td>3772</td>\n",
       "      <td>2</td>\n",
       "      <td>1</td>\n",
       "      <td>2</td>\n",
       "      <td>4</td>\n",
       "      <td>2</td>\n",
       "      <td>1038.9900</td>\n",
       "      <td>4.8765</td>\n",
       "      <td>2835.2165</td>\n",
       "      <td>1038.9900</td>\n",
       "      <td>4.8765</td>\n",
       "      <td>-4.7835</td>\n",
       "      <td>1.0</td>\n",
       "    </tr>\n",
       "    <tr>\n",
       "      <th>4414</th>\n",
       "      <td>5191</td>\n",
       "      <td>3</td>\n",
       "      <td>1</td>\n",
       "      <td>4</td>\n",
       "      <td>4</td>\n",
       "      <td>2</td>\n",
       "      <td>85.7990</td>\n",
       "      <td>0.4988</td>\n",
       "      <td>2839.5068</td>\n",
       "      <td>85.7990</td>\n",
       "      <td>0.4988</td>\n",
       "      <td>-0.4932</td>\n",
       "      <td>1.0</td>\n",
       "    </tr>\n",
       "    <tr>\n",
       "      <th>4415</th>\n",
       "      <td>5226</td>\n",
       "      <td>1</td>\n",
       "      <td>1</td>\n",
       "      <td>1</td>\n",
       "      <td>4</td>\n",
       "      <td>2</td>\n",
       "      <td>225.7340</td>\n",
       "      <td>1.5690</td>\n",
       "      <td>2838.4530</td>\n",
       "      <td>225.7340</td>\n",
       "      <td>1.5690</td>\n",
       "      <td>-1.5470</td>\n",
       "      <td>0.0</td>\n",
       "    </tr>\n",
       "    <tr>\n",
       "      <th>4416</th>\n",
       "      <td>5390</td>\n",
       "      <td>2</td>\n",
       "      <td>1</td>\n",
       "      <td>4</td>\n",
       "      <td>1</td>\n",
       "      <td>1</td>\n",
       "      <td>264.7800</td>\n",
       "      <td>4.8880</td>\n",
       "      <td>2835.2840</td>\n",
       "      <td>264.7800</td>\n",
       "      <td>4.8880</td>\n",
       "      <td>-4.7160</td>\n",
       "      <td>2.0</td>\n",
       "    </tr>\n",
       "    <tr>\n",
       "      <th>4417</th>\n",
       "      <td>860</td>\n",
       "      <td>1</td>\n",
       "      <td>2</td>\n",
       "      <td>1</td>\n",
       "      <td>1</td>\n",
       "      <td>1</td>\n",
       "      <td>54.2304</td>\n",
       "      <td>0.0860</td>\n",
       "      <td>2839.9143</td>\n",
       "      <td>54.2304</td>\n",
       "      <td>0.0860</td>\n",
       "      <td>-0.0857</td>\n",
       "      <td>2.0</td>\n",
       "    </tr>\n",
       "  </tbody>\n",
       "</table>\n",
       "<p>4418 rows × 13 columns</p>\n",
       "</div>"
      ],
      "text/plain": [
       "      Unnamed: 0  pl_letter  sy_snum  sy_pnum  discoverymethod  disc_locale  \\\n",
       "0           1849          1        1        1                7            1   \n",
       "1           2815          4        1        4                4            2   \n",
       "2            957          1        1        3                4            2   \n",
       "3           1295          1        1        1                2            2   \n",
       "4           4200          1        1        1                4            2   \n",
       "...          ...        ...      ...      ...              ...          ...   \n",
       "4413        3772          2        1        2                4            2   \n",
       "4414        5191          3        1        4                4            2   \n",
       "4415        5226          1        1        1                4            2   \n",
       "4416        5390          2        1        4                1            1   \n",
       "4417         860          1        2        1                1            1   \n",
       "\n",
       "        sy_dist  sy_disterr1  sy_disterr2  sy_dist.1  sy_disterr1.1  \\\n",
       "0     7020.0000    1030.0000    1690.0000  7020.0000      1030.0000   \n",
       "1      890.7580      13.6840    2826.7160   890.7580        13.6840   \n",
       "2      139.6110       0.4290    2839.5730   139.6110         0.4290   \n",
       "3       18.1186       0.0201    2839.9799    18.1186         0.0201   \n",
       "4     1355.2800      46.2800    2793.7200  1355.2800        46.2800   \n",
       "...         ...          ...          ...        ...            ...   \n",
       "4413  1038.9900       4.8765    2835.2165  1038.9900         4.8765   \n",
       "4414    85.7990       0.4988    2839.5068    85.7990         0.4988   \n",
       "4415   225.7340       1.5690    2838.4530   225.7340         1.5690   \n",
       "4416   264.7800       4.8880    2835.2840   264.7800         4.8880   \n",
       "4417    54.2304       0.0860    2839.9143    54.2304         0.0860   \n",
       "\n",
       "      sy_disterr2.1  pl_nnotes  \n",
       "0        -1150.0000        2.0  \n",
       "1          -13.2840        0.0  \n",
       "2           -0.4270        0.0  \n",
       "3           -0.0201        1.0  \n",
       "4          -46.2800        1.0  \n",
       "...             ...        ...  \n",
       "4413        -4.7835        1.0  \n",
       "4414        -0.4932        1.0  \n",
       "4415        -1.5470        0.0  \n",
       "4416        -4.7160        2.0  \n",
       "4417        -0.0857        2.0  \n",
       "\n",
       "[4418 rows x 13 columns]"
      ]
     },
     "execution_count": 7,
     "metadata": {},
     "output_type": "execute_result"
    }
   ],
   "source": [
    "X_train"
   ]
  },
  {
   "cell_type": "code",
   "execution_count": 8,
   "metadata": {},
   "outputs": [
    {
     "data": {
      "text/plain": [
       "array([1.0300e+03, 1.3684e+01, 4.2900e-01, ..., 1.5693e+01, 1.5690e+00,\n",
       "       8.6000e-02])"
      ]
     },
     "execution_count": 8,
     "metadata": {},
     "output_type": "execute_result"
    }
   ],
   "source": [
    "X_train.sy_disterr1.unique()"
   ]
  },
  {
   "cell_type": "code",
   "execution_count": 9,
   "metadata": {},
   "outputs": [
    {
     "data": {
      "text/plain": [
       "dtype('float64')"
      ]
     },
     "execution_count": 9,
     "metadata": {},
     "output_type": "execute_result"
    }
   ],
   "source": [
    "X_train.sy_disterr1.dtype"
   ]
  },
  {
   "cell_type": "code",
   "execution_count": 10,
   "metadata": {},
   "outputs": [
    {
     "data": {
      "text/plain": [
       "0.00034"
      ]
     },
     "execution_count": 10,
     "metadata": {},
     "output_type": "execute_result"
    }
   ],
   "source": [
    "X_train.sy_disterr1.min()"
   ]
  },
  {
   "cell_type": "code",
   "execution_count": 11,
   "metadata": {},
   "outputs": [
    {
     "data": {
      "text/plain": [
       "3720.23"
      ]
     },
     "execution_count": 11,
     "metadata": {},
     "output_type": "execute_result"
    }
   ],
   "source": [
    "X_train.sy_disterr1.max()"
   ]
  },
  {
   "cell_type": "code",
   "execution_count": 14,
   "metadata": {},
   "outputs": [
    {
     "data": {
      "text/plain": [
       "array([1.9238 , 1.9765 , 0.714  , ..., 0.0635 , 0.9272 , 0.55975])"
      ]
     },
     "execution_count": 14,
     "metadata": {},
     "output_type": "execute_result"
    }
   ],
   "source": [
    "data = pd.read_csv(\"data.csv\")\n",
    "data.sy_disterr1.unique()"
   ]
  },
  {
   "cell_type": "code",
   "execution_count": 17,
   "metadata": {},
   "outputs": [
    {
     "data": {
      "text/plain": [
       "3720.23"
      ]
     },
     "execution_count": 17,
     "metadata": {},
     "output_type": "execute_result"
    }
   ],
   "source": [
    "data.sy_disterr1.max()"
   ]
  },
  {
   "cell_type": "code",
   "execution_count": 18,
   "metadata": {},
   "outputs": [
    {
     "data": {
      "text/plain": [
       "Unnamed: 0                                    0\n",
       "pl_name                                11 Com b\n",
       "hostname                                 11 Com\n",
       "pl_letter                                     b\n",
       "sy_snum                                       1\n",
       "sy_pnum                                       1\n",
       "sy_mnum                                       0\n",
       "discoverymethod                      Astrometry\n",
       "disc_locale                              Ground\n",
       "disc_facility      Acton Sky Portal Observatory\n",
       "disc_telescope             0.1 m TESS Telescope\n",
       "disc_instrument                      12-m Array\n",
       "sy_dist                                 1.30119\n",
       "sy_disterr1                             0.00034\n",
       "sy_disterr2                             -2840.0\n",
       "sy_dist.1                               1.30119\n",
       "sy_disterr1.1                           0.00034\n",
       "sy_disterr2.1                           -2840.0\n",
       "pl_nnotes                                   0.0\n",
       "dtype: object"
      ]
     },
     "execution_count": 18,
     "metadata": {},
     "output_type": "execute_result"
    }
   ],
   "source": [
    "data.min()"
   ]
  },
  {
   "cell_type": "code",
   "execution_count": 19,
   "metadata": {},
   "outputs": [
    {
     "data": {
      "text/plain": [
       "Unnamed: 0                                    5522\n",
       "pl_name                                   xi Aql b\n",
       "hostname                                    xi Aql\n",
       "pl_letter                                        i\n",
       "sy_snum                                          4\n",
       "sy_pnum                                          8\n",
       "sy_mnum                                          0\n",
       "discoverymethod          Transit Timing Variations\n",
       "disc_locale                                  Space\n",
       "disc_facility      Yunnan Astronomical Observatory\n",
       "disc_telescope         Very Large Telescope (Antu)\n",
       "disc_instrument                  iKon-L CCD Camera\n",
       "sy_dist                                     8500.0\n",
       "sy_disterr1                                3720.23\n",
       "sy_disterr2                               -0.00035\n",
       "sy_dist.1                                   8500.0\n",
       "sy_disterr1.1                              3720.23\n",
       "sy_disterr2.1                             -0.00035\n",
       "pl_nnotes                                     16.0\n",
       "dtype: object"
      ]
     },
     "execution_count": 19,
     "metadata": {},
     "output_type": "execute_result"
    }
   ],
   "source": [
    "data.max()"
   ]
  },
  {
   "cell_type": "code",
   "execution_count": null,
   "metadata": {},
   "outputs": [],
   "source": []
  }
 ],
 "metadata": {
  "kernelspec": {
   "display_name": "base",
   "language": "python",
   "name": "python3"
  },
  "language_info": {
   "codemirror_mode": {
    "name": "ipython",
    "version": 3
   },
   "file_extension": ".py",
   "mimetype": "text/x-python",
   "name": "python",
   "nbconvert_exporter": "python",
   "pygments_lexer": "ipython3",
   "version": "3.11.3"
  }
 },
 "nbformat": 4,
 "nbformat_minor": 2
}
